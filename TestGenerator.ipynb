{
 "cells": [
  {
   "cell_type": "code",
   "execution_count": 14,
   "metadata": {
    "collapsed": true
   },
   "outputs": [],
   "source": [
    "\n",
    "\n",
    "\n",
    "import os\n",
    "import IAM_loader\n",
    "import random\n",
    "import cv2\n",
    "\n",
    "\n",
    "\n",
    "\n",
    "def covert_dir_name_to_string(i):\n",
    "    return \"0\"+str(i) if i<=9 else str(i)\n",
    "\n",
    "\n",
    "def write_writer_documents_in_directory(dirpath,i,docs,test):\n",
    "    print(\"Writing documents for writer {} in directory {}\".format(i,dirpath))\n",
    "    writer_dir_path = os.path.join(dirpath,str(i))\n",
    "    if not os.path.isdir(writer_dir_path):\n",
    "        os.mkdir(writer_dir_path)\n",
    "    num1 = random.randint(0,len(docs)-1)\n",
    "    im1 = loader.load_image('{}'.format(docs[num1]))\n",
    "    cv2.imwrite(os.path.join(writer_dir_path,\"1.PNG\"),im1)\n",
    "    num2=num1\n",
    "    while(num2==num1):\n",
    "        num2 = random.randint(0,len(docs)-1)\n",
    "    im2 = loader.load_image('{}'.format(docs[num2]))\n",
    "    cv2.imwrite(os.path.join(writer_dir_path,\"2.PNG\"),im2)\n",
    "    if test:\n",
    "        num3 =num2\n",
    "        while num3==num2 or num3==num1:\n",
    "            num3=random.randint(0,len(docs)-1)\n",
    "        print(\"writer chosen for test is {}\".format(i))\n",
    "        im3 = loader.load_image('{}'.format(docs[num3]))\n",
    "        cv2.imwrite(os.path.join(dirpath,\"test.PNG\"),im3)\n",
    "    \n",
    "\n",
    "    \n",
    "    \n"
   ]
  },
  {
   "cell_type": "code",
   "execution_count": 16,
   "metadata": {},
   "outputs": [
    {
     "name": "stdout",
     "output_type": "stream",
     "text": [
      "Writing documents for writer 1 in directory ./data/01\nwriter chosen for test is 1\n"
     ]
    },
    {
     "name": "stdout",
     "output_type": "stream",
     "text": [
      "Writing documents for writer 2 in directory ./data/01\n"
     ]
    },
    {
     "name": "stdout",
     "output_type": "stream",
     "text": [
      "Writing documents for writer 3 in directory ./data/01\n"
     ]
    },
    {
     "name": "stdout",
     "output_type": "stream",
     "text": [
      "Writing documents for writer 1 in directory ./data/02\n"
     ]
    },
    {
     "name": "stdout",
     "output_type": "stream",
     "text": [
      "Writing documents for writer 2 in directory ./data/02\n"
     ]
    },
    {
     "name": "stdout",
     "output_type": "stream",
     "text": [
      "writer chosen for test is 2\nWriting documents for writer 3 in directory ./data/02\n"
     ]
    },
    {
     "name": "stdout",
     "output_type": "stream",
     "text": [
      "Writing documents for writer 1 in directory ./data/03\nwriter chosen for test is 1\n"
     ]
    },
    {
     "name": "stdout",
     "output_type": "stream",
     "text": [
      "Writing documents for writer 2 in directory ./data/03\nWriting documents for writer 3 in directory ./data/03\n"
     ]
    },
    {
     "name": "stdout",
     "output_type": "stream",
     "text": [
      "Writing documents for writer 1 in directory ./data/04\nWriting documents for writer 2 in directory ./data/04\n"
     ]
    },
    {
     "name": "stdout",
     "output_type": "stream",
     "text": [
      "Writing documents for writer 3 in directory ./data/04\nwriter chosen for test is 3\n"
     ]
    },
    {
     "name": "stdout",
     "output_type": "stream",
     "text": [
      "Writing documents for writer 1 in directory ./data/05\nwriter chosen for test is 1\n"
     ]
    },
    {
     "name": "stdout",
     "output_type": "stream",
     "text": [
      "Writing documents for writer 2 in directory ./data/05\nWriting documents for writer 3 in directory ./data/05\n"
     ]
    },
    {
     "name": "stdout",
     "output_type": "stream",
     "text": [
      "Writing documents for writer 1 in directory ./data/06\n"
     ]
    },
    {
     "name": "stdout",
     "output_type": "stream",
     "text": [
      "Writing documents for writer 2 in directory ./data/06\nWriting documents for writer 3 in directory ./data/06\n"
     ]
    },
    {
     "name": "stdout",
     "output_type": "stream",
     "text": [
      "writer chosen for test is 3\nWriting documents for writer 1 in directory ./data/07\n"
     ]
    },
    {
     "name": "stdout",
     "output_type": "stream",
     "text": [
      "writer chosen for test is 1\nWriting documents for writer 2 in directory ./data/07\n"
     ]
    },
    {
     "name": "stdout",
     "output_type": "stream",
     "text": [
      "Writing documents for writer 3 in directory ./data/07\nWriting documents for writer 1 in directory ./data/08\n"
     ]
    },
    {
     "name": "stdout",
     "output_type": "stream",
     "text": [
      "Writing documents for writer 2 in directory ./data/08\n"
     ]
    },
    {
     "name": "stdout",
     "output_type": "stream",
     "text": [
      "Writing documents for writer 3 in directory ./data/08\nwriter chosen for test is 3\n"
     ]
    },
    {
     "name": "stdout",
     "output_type": "stream",
     "text": [
      "Writing documents for writer 1 in directory ./data/09\n"
     ]
    },
    {
     "name": "stdout",
     "output_type": "stream",
     "text": [
      "writer chosen for test is 1\nWriting documents for writer 2 in directory ./data/09\n"
     ]
    },
    {
     "name": "stdout",
     "output_type": "stream",
     "text": [
      "Writing documents for writer 3 in directory ./data/09\nWriting documents for writer 1 in directory ./data/10\n"
     ]
    },
    {
     "name": "stdout",
     "output_type": "stream",
     "text": [
      "Writing documents for writer 2 in directory ./data/10\n"
     ]
    },
    {
     "name": "stdout",
     "output_type": "stream",
     "text": [
      "writer chosen for test is 2\nWriting documents for writer 3 in directory ./data/10\n"
     ]
    },
    {
     "name": "stdout",
     "output_type": "stream",
     "text": [
      "Writing documents for writer 1 in directory ./data/11\nWriting documents for writer 2 in directory ./data/11\n"
     ]
    },
    {
     "name": "stdout",
     "output_type": "stream",
     "text": [
      "Writing documents for writer 3 in directory ./data/11\n"
     ]
    },
    {
     "name": "stdout",
     "output_type": "stream",
     "text": [
      "writer chosen for test is 3\nWriting documents for writer 1 in directory ./data/12\n"
     ]
    },
    {
     "name": "stdout",
     "output_type": "stream",
     "text": [
      "writer chosen for test is 1\nWriting documents for writer 2 in directory ./data/12\n"
     ]
    },
    {
     "name": "stdout",
     "output_type": "stream",
     "text": [
      "Writing documents for writer 3 in directory ./data/12\nWriting documents for writer 1 in directory ./data/13\n"
     ]
    },
    {
     "name": "stdout",
     "output_type": "stream",
     "text": [
      "Writing documents for writer 2 in directory ./data/13\n"
     ]
    },
    {
     "name": "stdout",
     "output_type": "stream",
     "text": [
      "Writing documents for writer 3 in directory ./data/13\n"
     ]
    },
    {
     "name": "stdout",
     "output_type": "stream",
     "text": [
      "writer chosen for test is 3\nWriting documents for writer 1 in directory ./data/14\n"
     ]
    },
    {
     "name": "stdout",
     "output_type": "stream",
     "text": [
      "Writing documents for writer 2 in directory ./data/14\n"
     ]
    },
    {
     "name": "stdout",
     "output_type": "stream",
     "text": [
      "Writing documents for writer 3 in directory ./data/14\n"
     ]
    },
    {
     "name": "stdout",
     "output_type": "stream",
     "text": [
      "writer chosen for test is 3\nWriting documents for writer 1 in directory ./data/15\n"
     ]
    },
    {
     "name": "stdout",
     "output_type": "stream",
     "text": [
      "Writing documents for writer 2 in directory ./data/15\nWriting documents for writer 3 in directory ./data/15\n"
     ]
    },
    {
     "name": "stdout",
     "output_type": "stream",
     "text": [
      "writer chosen for test is 3\nWriting documents for writer 1 in directory ./data/16\n"
     ]
    },
    {
     "name": "stdout",
     "output_type": "stream",
     "text": [
      "writer chosen for test is 1\nWriting documents for writer 2 in directory ./data/16\n"
     ]
    },
    {
     "name": "stdout",
     "output_type": "stream",
     "text": [
      "Writing documents for writer 3 in directory ./data/16\nWriting documents for writer 1 in directory ./data/17\n"
     ]
    },
    {
     "name": "stdout",
     "output_type": "stream",
     "text": [
      "writer chosen for test is 1\nWriting documents for writer 2 in directory ./data/17\n"
     ]
    },
    {
     "name": "stdout",
     "output_type": "stream",
     "text": [
      "Writing documents for writer 3 in directory ./data/17\n"
     ]
    },
    {
     "name": "stdout",
     "output_type": "stream",
     "text": [
      "Writing documents for writer 1 in directory ./data/18\n"
     ]
    },
    {
     "name": "stdout",
     "output_type": "stream",
     "text": [
      "Writing documents for writer 2 in directory ./data/18\nWriting documents for writer 3 in directory ./data/18\n"
     ]
    },
    {
     "name": "stdout",
     "output_type": "stream",
     "text": [
      "writer chosen for test is 3\nWriting documents for writer 1 in directory ./data/19\n"
     ]
    },
    {
     "name": "stdout",
     "output_type": "stream",
     "text": [
      "Writing documents for writer 2 in directory ./data/19\nwriter chosen for test is 2\n"
     ]
    },
    {
     "name": "stdout",
     "output_type": "stream",
     "text": [
      "Writing documents for writer 3 in directory ./data/19\n"
     ]
    },
    {
     "name": "stdout",
     "output_type": "stream",
     "text": [
      "Writing documents for writer 1 in directory ./data/20\n"
     ]
    },
    {
     "name": "stdout",
     "output_type": "stream",
     "text": [
      "Writing documents for writer 2 in directory ./data/20\nWriting documents for writer 3 in directory ./data/20\n"
     ]
    },
    {
     "name": "stdout",
     "output_type": "stream",
     "text": [
      "writer chosen for test is 3\nWriting documents for writer 1 in directory ./data/21\n"
     ]
    },
    {
     "name": "stdout",
     "output_type": "stream",
     "text": [
      "Writing documents for writer 2 in directory ./data/21\nwriter chosen for test is 2\n"
     ]
    },
    {
     "name": "stdout",
     "output_type": "stream",
     "text": [
      "Writing documents for writer 3 in directory ./data/21\n"
     ]
    },
    {
     "name": "stdout",
     "output_type": "stream",
     "text": [
      "Writing documents for writer 1 in directory ./data/22\n"
     ]
    },
    {
     "name": "stdout",
     "output_type": "stream",
     "text": [
      "Writing documents for writer 2 in directory ./data/22\n"
     ]
    },
    {
     "name": "stdout",
     "output_type": "stream",
     "text": [
      "Writing documents for writer 3 in directory ./data/22\n"
     ]
    },
    {
     "name": "stdout",
     "output_type": "stream",
     "text": [
      "writer chosen for test is 3\nWriting documents for writer 1 in directory ./data/23\n"
     ]
    },
    {
     "name": "stdout",
     "output_type": "stream",
     "text": [
      "Writing documents for writer 2 in directory ./data/23\n"
     ]
    },
    {
     "name": "stdout",
     "output_type": "stream",
     "text": [
      "writer chosen for test is 2\nWriting documents for writer 3 in directory ./data/23\n"
     ]
    },
    {
     "name": "stdout",
     "output_type": "stream",
     "text": [
      "Writing documents for writer 1 in directory ./data/24\n"
     ]
    },
    {
     "name": "stdout",
     "output_type": "stream",
     "text": [
      "Writing documents for writer 2 in directory ./data/24\nWriting documents for writer 3 in directory ./data/24\n"
     ]
    },
    {
     "name": "stdout",
     "output_type": "stream",
     "text": [
      "writer chosen for test is 3\nWriting documents for writer 1 in directory ./data/25\n"
     ]
    },
    {
     "name": "stdout",
     "output_type": "stream",
     "text": [
      "Writing documents for writer 2 in directory ./data/25\nwriter chosen for test is 2\n"
     ]
    },
    {
     "name": "stdout",
     "output_type": "stream",
     "text": [
      "Writing documents for writer 3 in directory ./data/25\nWriting documents for writer 1 in directory ./data/26\n"
     ]
    },
    {
     "name": "stdout",
     "output_type": "stream",
     "text": [
      "Writing documents for writer 2 in directory ./data/26\nwriter chosen for test is 2\n"
     ]
    },
    {
     "name": "stdout",
     "output_type": "stream",
     "text": [
      "Writing documents for writer 3 in directory ./data/26\nWriting documents for writer 1 in directory ./data/27\n"
     ]
    },
    {
     "name": "stdout",
     "output_type": "stream",
     "text": [
      "writer chosen for test is 1\nWriting documents for writer 2 in directory ./data/27\n"
     ]
    },
    {
     "name": "stdout",
     "output_type": "stream",
     "text": [
      "Writing documents for writer 3 in directory ./data/27\nWriting documents for writer 1 in directory ./data/28\n"
     ]
    },
    {
     "name": "stdout",
     "output_type": "stream",
     "text": [
      "writer chosen for test is 1\nWriting documents for writer 2 in directory ./data/28\n"
     ]
    },
    {
     "name": "stdout",
     "output_type": "stream",
     "text": [
      "Writing documents for writer 3 in directory ./data/28\nWriting documents for writer 1 in directory ./data/29\n"
     ]
    },
    {
     "name": "stdout",
     "output_type": "stream",
     "text": [
      "writer chosen for test is 1\nWriting documents for writer 2 in directory ./data/29\n"
     ]
    },
    {
     "name": "stdout",
     "output_type": "stream",
     "text": [
      "Writing documents for writer 3 in directory ./data/29\nWriting documents for writer 1 in directory ./data/30\n"
     ]
    },
    {
     "name": "stdout",
     "output_type": "stream",
     "text": [
      "Writing documents for writer 2 in directory ./data/30\nwriter chosen for test is 2\n"
     ]
    },
    {
     "name": "stdout",
     "output_type": "stream",
     "text": [
      "Writing documents for writer 3 in directory ./data/30\n"
     ]
    },
    {
     "name": "stdout",
     "output_type": "stream",
     "text": [
      "Writing documents for writer 1 in directory ./data/31\n"
     ]
    },
    {
     "name": "stdout",
     "output_type": "stream",
     "text": [
      "Writing documents for writer 2 in directory ./data/31\n"
     ]
    },
    {
     "name": "stdout",
     "output_type": "stream",
     "text": [
      "Writing documents for writer 3 in directory ./data/31\n"
     ]
    },
    {
     "name": "stdout",
     "output_type": "stream",
     "text": [
      "writer chosen for test is 3\nWriting documents for writer 1 in directory ./data/32\n"
     ]
    },
    {
     "name": "stdout",
     "output_type": "stream",
     "text": [
      "writer chosen for test is 1\nWriting documents for writer 2 in directory ./data/32\n"
     ]
    },
    {
     "name": "stdout",
     "output_type": "stream",
     "text": [
      "Writing documents for writer 3 in directory ./data/32\n"
     ]
    },
    {
     "name": "stdout",
     "output_type": "stream",
     "text": [
      "Writing documents for writer 1 in directory ./data/33\nwriter chosen for test is 1\n"
     ]
    },
    {
     "name": "stdout",
     "output_type": "stream",
     "text": [
      "Writing documents for writer 2 in directory ./data/33\nWriting documents for writer 3 in directory ./data/33\n"
     ]
    },
    {
     "name": "stdout",
     "output_type": "stream",
     "text": [
      "Writing documents for writer 1 in directory ./data/34\nWriting documents for writer 2 in directory ./data/34\n"
     ]
    },
    {
     "name": "stdout",
     "output_type": "stream",
     "text": [
      "writer chosen for test is 2\nWriting documents for writer 3 in directory ./data/34\n"
     ]
    },
    {
     "name": "stdout",
     "output_type": "stream",
     "text": [
      "Writing documents for writer 1 in directory ./data/35\nwriter chosen for test is 1\n"
     ]
    },
    {
     "name": "stdout",
     "output_type": "stream",
     "text": [
      "Writing documents for writer 2 in directory ./data/35\n"
     ]
    },
    {
     "name": "stdout",
     "output_type": "stream",
     "text": [
      "Writing documents for writer 3 in directory ./data/35\nWriting documents for writer 1 in directory ./data/36\n"
     ]
    },
    {
     "name": "stdout",
     "output_type": "stream",
     "text": [
      "writer chosen for test is 1\nWriting documents for writer 2 in directory ./data/36\n"
     ]
    },
    {
     "name": "stdout",
     "output_type": "stream",
     "text": [
      "Writing documents for writer 3 in directory ./data/36\n"
     ]
    },
    {
     "name": "stdout",
     "output_type": "stream",
     "text": [
      "Writing documents for writer 1 in directory ./data/37\n"
     ]
    },
    {
     "name": "stdout",
     "output_type": "stream",
     "text": [
      "Writing documents for writer 2 in directory ./data/37\n"
     ]
    },
    {
     "name": "stdout",
     "output_type": "stream",
     "text": [
      "writer chosen for test is 2\nWriting documents for writer 3 in directory ./data/37\n"
     ]
    },
    {
     "name": "stdout",
     "output_type": "stream",
     "text": [
      "Writing documents for writer 1 in directory ./data/38\n"
     ]
    },
    {
     "name": "stdout",
     "output_type": "stream",
     "text": [
      "Writing documents for writer 2 in directory ./data/38\n"
     ]
    },
    {
     "name": "stdout",
     "output_type": "stream",
     "text": [
      "Writing documents for writer 3 in directory ./data/38\n"
     ]
    },
    {
     "name": "stdout",
     "output_type": "stream",
     "text": [
      "writer chosen for test is 3\nWriting documents for writer 1 in directory ./data/39\n"
     ]
    },
    {
     "name": "stdout",
     "output_type": "stream",
     "text": [
      "Writing documents for writer 2 in directory ./data/39\nWriting documents for writer 3 in directory ./data/39\n"
     ]
    },
    {
     "name": "stdout",
     "output_type": "stream",
     "text": [
      "writer chosen for test is 3\nWriting documents for writer 1 in directory ./data/40\n"
     ]
    },
    {
     "name": "stdout",
     "output_type": "stream",
     "text": [
      "Writing documents for writer 2 in directory ./data/40\nWriting documents for writer 3 in directory ./data/40\n"
     ]
    },
    {
     "name": "stdout",
     "output_type": "stream",
     "text": [
      "writer chosen for test is 3\nWriting documents for writer 1 in directory ./data/41\n"
     ]
    },
    {
     "name": "stdout",
     "output_type": "stream",
     "text": [
      "Writing documents for writer 2 in directory ./data/41\n"
     ]
    },
    {
     "name": "stdout",
     "output_type": "stream",
     "text": [
      "writer chosen for test is 2\nWriting documents for writer 3 in directory ./data/41\n"
     ]
    },
    {
     "name": "stdout",
     "output_type": "stream",
     "text": [
      "Writing documents for writer 1 in directory ./data/42\nwriter chosen for test is 1\n"
     ]
    },
    {
     "name": "stdout",
     "output_type": "stream",
     "text": [
      "Writing documents for writer 2 in directory ./data/42\n"
     ]
    },
    {
     "name": "stdout",
     "output_type": "stream",
     "text": [
      "Writing documents for writer 3 in directory ./data/42\nWriting documents for writer 1 in directory ./data/43\n"
     ]
    },
    {
     "name": "stdout",
     "output_type": "stream",
     "text": [
      "Writing documents for writer 2 in directory ./data/43\n"
     ]
    },
    {
     "name": "stdout",
     "output_type": "stream",
     "text": [
      "writer chosen for test is 2\nWriting documents for writer 3 in directory ./data/43\n"
     ]
    },
    {
     "name": "stdout",
     "output_type": "stream",
     "text": [
      "Writing documents for writer 1 in directory ./data/44\n"
     ]
    },
    {
     "name": "stdout",
     "output_type": "stream",
     "text": [
      "Writing documents for writer 2 in directory ./data/44\nwriter chosen for test is 2\n"
     ]
    },
    {
     "name": "stdout",
     "output_type": "stream",
     "text": [
      "Writing documents for writer 3 in directory ./data/44\nWriting documents for writer 1 in directory ./data/45\n"
     ]
    },
    {
     "name": "stdout",
     "output_type": "stream",
     "text": [
      "Writing documents for writer 2 in directory ./data/45\nWriting documents for writer 3 in directory ./data/45\n"
     ]
    },
    {
     "name": "stdout",
     "output_type": "stream",
     "text": [
      "writer chosen for test is 3\nWriting documents for writer 1 in directory ./data/46\n"
     ]
    },
    {
     "name": "stdout",
     "output_type": "stream",
     "text": [
      "Writing documents for writer 2 in directory ./data/46\n"
     ]
    },
    {
     "name": "stdout",
     "output_type": "stream",
     "text": [
      "writer chosen for test is 2\nWriting documents for writer 3 in directory ./data/46\n"
     ]
    },
    {
     "name": "stdout",
     "output_type": "stream",
     "text": [
      "Writing documents for writer 1 in directory ./data/47\nWriting documents for writer 2 in directory ./data/47\n"
     ]
    },
    {
     "name": "stdout",
     "output_type": "stream",
     "text": [
      "writer chosen for test is 2\nWriting documents for writer 3 in directory ./data/47\n"
     ]
    },
    {
     "name": "stdout",
     "output_type": "stream",
     "text": [
      "Writing documents for writer 1 in directory ./data/48\n"
     ]
    },
    {
     "name": "stdout",
     "output_type": "stream",
     "text": [
      "Writing documents for writer 2 in directory ./data/48\n"
     ]
    },
    {
     "name": "stdout",
     "output_type": "stream",
     "text": [
      "Writing documents for writer 3 in directory ./data/48\nwriter chosen for test is 3\n"
     ]
    },
    {
     "name": "stdout",
     "output_type": "stream",
     "text": [
      "Writing documents for writer 1 in directory ./data/49\nWriting documents for writer 2 in directory ./data/49\n"
     ]
    },
    {
     "name": "stdout",
     "output_type": "stream",
     "text": [
      "Writing documents for writer 3 in directory ./data/49\n"
     ]
    },
    {
     "name": "stdout",
     "output_type": "stream",
     "text": [
      "writer chosen for test is 3\nWriting documents for writer 1 in directory ./data/50\n"
     ]
    },
    {
     "name": "stdout",
     "output_type": "stream",
     "text": [
      "Writing documents for writer 2 in directory ./data/50\nwriter chosen for test is 2\n"
     ]
    },
    {
     "name": "stdout",
     "output_type": "stream",
     "text": [
      "Writing documents for writer 3 in directory ./data/50\nWriting documents for writer 1 in directory ./data/51\n"
     ]
    },
    {
     "name": "stdout",
     "output_type": "stream",
     "text": [
      "Writing documents for writer 2 in directory ./data/51\n"
     ]
    },
    {
     "name": "stdout",
     "output_type": "stream",
     "text": [
      "writer chosen for test is 2\nWriting documents for writer 3 in directory ./data/51\n"
     ]
    },
    {
     "name": "stdout",
     "output_type": "stream",
     "text": [
      "Writing documents for writer 1 in directory ./data/52\n"
     ]
    },
    {
     "name": "stdout",
     "output_type": "stream",
     "text": [
      "Writing documents for writer 2 in directory ./data/52\nwriter chosen for test is 2\n"
     ]
    },
    {
     "name": "stdout",
     "output_type": "stream",
     "text": [
      "Writing documents for writer 3 in directory ./data/52\n"
     ]
    },
    {
     "name": "stdout",
     "output_type": "stream",
     "text": [
      "Writing documents for writer 1 in directory ./data/53\n"
     ]
    },
    {
     "name": "stdout",
     "output_type": "stream",
     "text": [
      "Writing documents for writer 2 in directory ./data/53\nwriter chosen for test is 2\n"
     ]
    },
    {
     "name": "stdout",
     "output_type": "stream",
     "text": [
      "Writing documents for writer 3 in directory ./data/53\n"
     ]
    },
    {
     "name": "stdout",
     "output_type": "stream",
     "text": [
      "Writing documents for writer 1 in directory ./data/54\nWriting documents for writer 2 in directory ./data/54\n"
     ]
    },
    {
     "name": "stdout",
     "output_type": "stream",
     "text": [
      "writer chosen for test is 2\nWriting documents for writer 3 in directory ./data/54\n"
     ]
    },
    {
     "name": "stdout",
     "output_type": "stream",
     "text": [
      "Writing documents for writer 1 in directory ./data/55\nWriting documents for writer 2 in directory ./data/55\n"
     ]
    },
    {
     "name": "stdout",
     "output_type": "stream",
     "text": [
      "Writing documents for writer 3 in directory ./data/55\nwriter chosen for test is 3\n"
     ]
    },
    {
     "name": "stdout",
     "output_type": "stream",
     "text": [
      "Writing documents for writer 1 in directory ./data/56\nWriting documents for writer 2 in directory ./data/56\n"
     ]
    },
    {
     "name": "stdout",
     "output_type": "stream",
     "text": [
      "writer chosen for test is 2\nWriting documents for writer 3 in directory ./data/56\n"
     ]
    },
    {
     "name": "stdout",
     "output_type": "stream",
     "text": [
      "Writing documents for writer 1 in directory ./data/57\nWriting documents for writer 2 in directory ./data/57\n"
     ]
    },
    {
     "name": "stdout",
     "output_type": "stream",
     "text": [
      "Writing documents for writer 3 in directory ./data/57\nwriter chosen for test is 3\n"
     ]
    },
    {
     "name": "stdout",
     "output_type": "stream",
     "text": [
      "Writing documents for writer 1 in directory ./data/58\n"
     ]
    },
    {
     "name": "stdout",
     "output_type": "stream",
     "text": [
      "Writing documents for writer 2 in directory ./data/58\nwriter chosen for test is 2\n"
     ]
    },
    {
     "name": "stdout",
     "output_type": "stream",
     "text": [
      "Writing documents for writer 3 in directory ./data/58\nWriting documents for writer 1 in directory ./data/59\n"
     ]
    },
    {
     "name": "stdout",
     "output_type": "stream",
     "text": [
      "Writing documents for writer 2 in directory ./data/59\n"
     ]
    },
    {
     "name": "stdout",
     "output_type": "stream",
     "text": [
      "Writing documents for writer 3 in directory ./data/59\nwriter chosen for test is 3\n"
     ]
    },
    {
     "name": "stdout",
     "output_type": "stream",
     "text": [
      "Writing documents for writer 1 in directory ./data/60\nWriting documents for writer 2 in directory ./data/60\n"
     ]
    },
    {
     "name": "stdout",
     "output_type": "stream",
     "text": [
      "writer chosen for test is 2\nWriting documents for writer 3 in directory ./data/60\n"
     ]
    },
    {
     "name": "stdout",
     "output_type": "stream",
     "text": [
      "Writing documents for writer 1 in directory ./data/61\nWriting documents for writer 2 in directory ./data/61\n"
     ]
    },
    {
     "name": "stdout",
     "output_type": "stream",
     "text": [
      "writer chosen for test is 2\nWriting documents for writer 3 in directory ./data/61\n"
     ]
    },
    {
     "name": "stdout",
     "output_type": "stream",
     "text": [
      "Writing documents for writer 1 in directory ./data/62\nWriting documents for writer 2 in directory ./data/62\n"
     ]
    },
    {
     "name": "stdout",
     "output_type": "stream",
     "text": [
      "Writing documents for writer 3 in directory ./data/62\nwriter chosen for test is 3\n"
     ]
    },
    {
     "name": "stdout",
     "output_type": "stream",
     "text": [
      "Writing documents for writer 1 in directory ./data/63\nWriting documents for writer 2 in directory ./data/63\n"
     ]
    },
    {
     "name": "stdout",
     "output_type": "stream",
     "text": [
      "writer chosen for test is 2\nWriting documents for writer 3 in directory ./data/63\n"
     ]
    },
    {
     "name": "stdout",
     "output_type": "stream",
     "text": [
      "Writing documents for writer 1 in directory ./data/64\n"
     ]
    },
    {
     "name": "stdout",
     "output_type": "stream",
     "text": [
      "Writing documents for writer 2 in directory ./data/64\n"
     ]
    },
    {
     "name": "stdout",
     "output_type": "stream",
     "text": [
      "writer chosen for test is 2\nWriting documents for writer 3 in directory ./data/64\n"
     ]
    },
    {
     "name": "stdout",
     "output_type": "stream",
     "text": [
      "Writing documents for writer 1 in directory ./data/65\nWriting documents for writer 2 in directory ./data/65\n"
     ]
    },
    {
     "name": "stdout",
     "output_type": "stream",
     "text": [
      "Writing documents for writer 3 in directory ./data/65\nwriter chosen for test is 3\n"
     ]
    },
    {
     "name": "stdout",
     "output_type": "stream",
     "text": [
      "Writing documents for writer 1 in directory ./data/66\n"
     ]
    },
    {
     "name": "stdout",
     "output_type": "stream",
     "text": [
      "writer chosen for test is 1\nWriting documents for writer 2 in directory ./data/66\n"
     ]
    },
    {
     "name": "stdout",
     "output_type": "stream",
     "text": [
      "Writing documents for writer 3 in directory ./data/66\nWriting documents for writer 1 in directory ./data/67\n"
     ]
    },
    {
     "name": "stdout",
     "output_type": "stream",
     "text": [
      "Writing documents for writer 2 in directory ./data/67\n"
     ]
    },
    {
     "name": "stdout",
     "output_type": "stream",
     "text": [
      "Writing documents for writer 3 in directory ./data/67\nwriter chosen for test is 3\n"
     ]
    },
    {
     "name": "stdout",
     "output_type": "stream",
     "text": [
      "Writing documents for writer 1 in directory ./data/68\n"
     ]
    },
    {
     "name": "stdout",
     "output_type": "stream",
     "text": [
      "writer chosen for test is 1\nWriting documents for writer 2 in directory ./data/68\n"
     ]
    },
    {
     "name": "stdout",
     "output_type": "stream",
     "text": [
      "Writing documents for writer 3 in directory ./data/68\n"
     ]
    },
    {
     "name": "stdout",
     "output_type": "stream",
     "text": [
      "Writing documents for writer 1 in directory ./data/69\n"
     ]
    },
    {
     "name": "stdout",
     "output_type": "stream",
     "text": [
      "Writing documents for writer 2 in directory ./data/69\n"
     ]
    },
    {
     "name": "stdout",
     "output_type": "stream",
     "text": [
      "writer chosen for test is 2\nWriting documents for writer 3 in directory ./data/69\n"
     ]
    },
    {
     "name": "stdout",
     "output_type": "stream",
     "text": [
      "Writing documents for writer 1 in directory ./data/70\nWriting documents for writer 2 in directory ./data/70\n"
     ]
    },
    {
     "name": "stdout",
     "output_type": "stream",
     "text": [
      "Writing documents for writer 3 in directory ./data/70\nwriter chosen for test is 3\n"
     ]
    },
    {
     "name": "stdout",
     "output_type": "stream",
     "text": [
      "Writing documents for writer 1 in directory ./data/71\nWriting documents for writer 2 in directory ./data/71\n"
     ]
    },
    {
     "name": "stdout",
     "output_type": "stream",
     "text": [
      "Writing documents for writer 3 in directory ./data/71\n"
     ]
    },
    {
     "name": "stdout",
     "output_type": "stream",
     "text": [
      "writer chosen for test is 3\nWriting documents for writer 1 in directory ./data/72\n"
     ]
    },
    {
     "name": "stdout",
     "output_type": "stream",
     "text": [
      "Writing documents for writer 2 in directory ./data/72\nWriting documents for writer 3 in directory ./data/72\n"
     ]
    },
    {
     "name": "stdout",
     "output_type": "stream",
     "text": [
      "writer chosen for test is 3\nWriting documents for writer 1 in directory ./data/73\n"
     ]
    },
    {
     "name": "stdout",
     "output_type": "stream",
     "text": [
      "writer chosen for test is 1\nWriting documents for writer 2 in directory ./data/73\n"
     ]
    },
    {
     "name": "stdout",
     "output_type": "stream",
     "text": [
      "Writing documents for writer 3 in directory ./data/73\n"
     ]
    },
    {
     "name": "stdout",
     "output_type": "stream",
     "text": [
      "Writing documents for writer 1 in directory ./data/74\n"
     ]
    },
    {
     "name": "stdout",
     "output_type": "stream",
     "text": [
      "Writing documents for writer 2 in directory ./data/74\nwriter chosen for test is 2\n"
     ]
    },
    {
     "name": "stdout",
     "output_type": "stream",
     "text": [
      "Writing documents for writer 3 in directory ./data/74\nWriting documents for writer 1 in directory ./data/75\n"
     ]
    },
    {
     "name": "stdout",
     "output_type": "stream",
     "text": [
      "Writing documents for writer 2 in directory ./data/75\nwriter chosen for test is 2\n"
     ]
    },
    {
     "name": "stdout",
     "output_type": "stream",
     "text": [
      "Writing documents for writer 3 in directory ./data/75\n"
     ]
    },
    {
     "name": "stdout",
     "output_type": "stream",
     "text": [
      "Writing documents for writer 1 in directory ./data/76\nWriting documents for writer 2 in directory ./data/76\n"
     ]
    },
    {
     "name": "stdout",
     "output_type": "stream",
     "text": [
      "writer chosen for test is 2\nWriting documents for writer 3 in directory ./data/76\n"
     ]
    },
    {
     "name": "stdout",
     "output_type": "stream",
     "text": [
      "Writing documents for writer 1 in directory ./data/77\n"
     ]
    },
    {
     "name": "stdout",
     "output_type": "stream",
     "text": [
      "Writing documents for writer 2 in directory ./data/77\n"
     ]
    },
    {
     "name": "stdout",
     "output_type": "stream",
     "text": [
      "writer chosen for test is 2\nWriting documents for writer 3 in directory ./data/77\n"
     ]
    },
    {
     "name": "stdout",
     "output_type": "stream",
     "text": [
      "Writing documents for writer 1 in directory ./data/78\n"
     ]
    },
    {
     "name": "stdout",
     "output_type": "stream",
     "text": [
      "writer chosen for test is 1\nWriting documents for writer 2 in directory ./data/78\n"
     ]
    },
    {
     "name": "stdout",
     "output_type": "stream",
     "text": [
      "Writing documents for writer 3 in directory ./data/78\n"
     ]
    },
    {
     "name": "stdout",
     "output_type": "stream",
     "text": [
      "Writing documents for writer 1 in directory ./data/79\n"
     ]
    },
    {
     "name": "stdout",
     "output_type": "stream",
     "text": [
      "Writing documents for writer 2 in directory ./data/79\n"
     ]
    },
    {
     "name": "stdout",
     "output_type": "stream",
     "text": [
      "writer chosen for test is 2\nWriting documents for writer 3 in directory ./data/79\n"
     ]
    },
    {
     "name": "stdout",
     "output_type": "stream",
     "text": [
      "Writing documents for writer 1 in directory ./data/80\n"
     ]
    },
    {
     "name": "stdout",
     "output_type": "stream",
     "text": [
      "Writing documents for writer 2 in directory ./data/80\nWriting documents for writer 3 in directory ./data/80\n"
     ]
    },
    {
     "name": "stdout",
     "output_type": "stream",
     "text": [
      "writer chosen for test is 3\nWriting documents for writer 1 in directory ./data/81\n"
     ]
    },
    {
     "name": "stdout",
     "output_type": "stream",
     "text": [
      "Writing documents for writer 2 in directory ./data/81\n"
     ]
    },
    {
     "name": "stdout",
     "output_type": "stream",
     "text": [
      "writer chosen for test is 2\nWriting documents for writer 3 in directory ./data/81\n"
     ]
    },
    {
     "name": "stdout",
     "output_type": "stream",
     "text": [
      "Writing documents for writer 1 in directory ./data/82\nwriter chosen for test is 1\n"
     ]
    },
    {
     "name": "stdout",
     "output_type": "stream",
     "text": [
      "Writing documents for writer 2 in directory ./data/82\nWriting documents for writer 3 in directory ./data/82\n"
     ]
    },
    {
     "name": "stdout",
     "output_type": "stream",
     "text": [
      "Writing documents for writer 1 in directory ./data/83\n"
     ]
    },
    {
     "name": "stdout",
     "output_type": "stream",
     "text": [
      "Writing documents for writer 2 in directory ./data/83\nWriting documents for writer 3 in directory ./data/83\n"
     ]
    },
    {
     "name": "stdout",
     "output_type": "stream",
     "text": [
      "writer chosen for test is 3\nWriting documents for writer 1 in directory ./data/84\n"
     ]
    },
    {
     "name": "stdout",
     "output_type": "stream",
     "text": [
      "Writing documents for writer 2 in directory ./data/84\nwriter chosen for test is 2\n"
     ]
    },
    {
     "name": "stdout",
     "output_type": "stream",
     "text": [
      "Writing documents for writer 3 in directory ./data/84\nWriting documents for writer 1 in directory ./data/85\n"
     ]
    },
    {
     "name": "stdout",
     "output_type": "stream",
     "text": [
      "writer chosen for test is 1\nWriting documents for writer 2 in directory ./data/85\n"
     ]
    },
    {
     "name": "stdout",
     "output_type": "stream",
     "text": [
      "Writing documents for writer 3 in directory ./data/85\nWriting documents for writer 1 in directory ./data/86\n"
     ]
    },
    {
     "name": "stdout",
     "output_type": "stream",
     "text": [
      "Writing documents for writer 2 in directory ./data/86\nwriter chosen for test is 2\n"
     ]
    },
    {
     "name": "stdout",
     "output_type": "stream",
     "text": [
      "Writing documents for writer 3 in directory ./data/86\n"
     ]
    },
    {
     "name": "stdout",
     "output_type": "stream",
     "text": [
      "Writing documents for writer 1 in directory ./data/87\nWriting documents for writer 2 in directory ./data/87\n"
     ]
    },
    {
     "name": "stdout",
     "output_type": "stream",
     "text": [
      "Writing documents for writer 3 in directory ./data/87\nwriter chosen for test is 3\n"
     ]
    },
    {
     "name": "stdout",
     "output_type": "stream",
     "text": [
      "Writing documents for writer 1 in directory ./data/88\n"
     ]
    },
    {
     "name": "stdout",
     "output_type": "stream",
     "text": [
      "writer chosen for test is 1\nWriting documents for writer 2 in directory ./data/88\n"
     ]
    },
    {
     "name": "stdout",
     "output_type": "stream",
     "text": [
      "Writing documents for writer 3 in directory ./data/88\nWriting documents for writer 1 in directory ./data/89\n"
     ]
    },
    {
     "name": "stdout",
     "output_type": "stream",
     "text": [
      "Writing documents for writer 2 in directory ./data/89\nwriter chosen for test is 2\n"
     ]
    },
    {
     "name": "stdout",
     "output_type": "stream",
     "text": [
      "Writing documents for writer 3 in directory ./data/89\nWriting documents for writer 1 in directory ./data/90\n"
     ]
    },
    {
     "name": "stdout",
     "output_type": "stream",
     "text": [
      "writer chosen for test is 1\nWriting documents for writer 2 in directory ./data/90\n"
     ]
    },
    {
     "name": "stdout",
     "output_type": "stream",
     "text": [
      "Writing documents for writer 3 in directory ./data/90\nWriting documents for writer 1 in directory ./data/91\n"
     ]
    },
    {
     "name": "stdout",
     "output_type": "stream",
     "text": [
      "writer chosen for test is 1\nWriting documents for writer 2 in directory ./data/91\n"
     ]
    },
    {
     "name": "stdout",
     "output_type": "stream",
     "text": [
      "Writing documents for writer 3 in directory ./data/91\nWriting documents for writer 1 in directory ./data/92\n"
     ]
    },
    {
     "name": "stdout",
     "output_type": "stream",
     "text": [
      "Writing documents for writer 2 in directory ./data/92\nWriting documents for writer 3 in directory ./data/92\n"
     ]
    },
    {
     "name": "stdout",
     "output_type": "stream",
     "text": [
      "writer chosen for test is 3\nWriting documents for writer 1 in directory ./data/93\n"
     ]
    },
    {
     "name": "stdout",
     "output_type": "stream",
     "text": [
      "writer chosen for test is 1\nWriting documents for writer 2 in directory ./data/93\n"
     ]
    },
    {
     "name": "stdout",
     "output_type": "stream",
     "text": [
      "Writing documents for writer 3 in directory ./data/93\nWriting documents for writer 1 in directory ./data/94\n"
     ]
    },
    {
     "name": "stdout",
     "output_type": "stream",
     "text": [
      "Writing documents for writer 2 in directory ./data/94\nwriter chosen for test is 2\n"
     ]
    },
    {
     "name": "stdout",
     "output_type": "stream",
     "text": [
      "Writing documents for writer 3 in directory ./data/94\n"
     ]
    },
    {
     "name": "stdout",
     "output_type": "stream",
     "text": [
      "Writing documents for writer 1 in directory ./data/95\nWriting documents for writer 2 in directory ./data/95\n"
     ]
    },
    {
     "name": "stdout",
     "output_type": "stream",
     "text": [
      "writer chosen for test is 2\nWriting documents for writer 3 in directory ./data/95\n"
     ]
    },
    {
     "name": "stdout",
     "output_type": "stream",
     "text": [
      "Writing documents for writer 1 in directory ./data/96\nWriting documents for writer 2 in directory ./data/96\n"
     ]
    },
    {
     "name": "stdout",
     "output_type": "stream",
     "text": [
      "Writing documents for writer 3 in directory ./data/96\n"
     ]
    },
    {
     "name": "stdout",
     "output_type": "stream",
     "text": [
      "writer chosen for test is 3\nWriting documents for writer 1 in directory ./data/97\n"
     ]
    },
    {
     "name": "stdout",
     "output_type": "stream",
     "text": [
      "Writing documents for writer 2 in directory ./data/97\n"
     ]
    },
    {
     "name": "stdout",
     "output_type": "stream",
     "text": [
      "Writing documents for writer 3 in directory ./data/97\n"
     ]
    },
    {
     "name": "stdout",
     "output_type": "stream",
     "text": [
      "writer chosen for test is 3\nWriting documents for writer 1 in directory ./data/98\n"
     ]
    },
    {
     "name": "stdout",
     "output_type": "stream",
     "text": [
      "writer chosen for test is 1\nWriting documents for writer 2 in directory ./data/98\n"
     ]
    },
    {
     "name": "stdout",
     "output_type": "stream",
     "text": [
      "Writing documents for writer 3 in directory ./data/98\nWriting documents for writer 1 in directory ./data/99\n"
     ]
    },
    {
     "name": "stdout",
     "output_type": "stream",
     "text": [
      "writer chosen for test is 1\nWriting documents for writer 2 in directory ./data/99\n"
     ]
    },
    {
     "name": "stdout",
     "output_type": "stream",
     "text": [
      "Writing documents for writer 3 in directory ./data/99\n"
     ]
    },
    {
     "name": "stdout",
     "output_type": "stream",
     "text": [
      "Writing documents for writer 1 in directory ./data/100\nWriting documents for writer 2 in directory ./data/100\n"
     ]
    },
    {
     "name": "stdout",
     "output_type": "stream",
     "text": [
      "writer chosen for test is 2\nWriting documents for writer 3 in directory ./data/100\n"
     ]
    }
   ],
   "source": [
    "\n",
    "loader = IAM_loader.IAM_loader('../version1/data')\n",
    "\n",
    "\n",
    "authors_dict=loader.read_forms_meta_data()\n",
    "\n",
    "#set the cnt of test cases\n",
    "cnt = 100\n",
    "#set path of test cases\n",
    "path = \"./data\"\n",
    "\n",
    "sorted_authors =[value for _,value in sorted(authors_dict.items(),key=lambda a:len(a[1]),reverse=True)]\n",
    "\n",
    "\n",
    "if not os.path.isdir(path):\n",
    "    os.mkdir(path)\n",
    "\n",
    "expected_output_file = open(\"expected_output.txt\",\"w\")\n",
    "\n",
    "#for each test case\n",
    "for j in range(1,cnt+1):\n",
    "    #create test case directory\n",
    "    dirnum = covert_dir_name_to_string(j)\n",
    "    dirpath = os.path.join(path,dirnum)\n",
    "    if not os.path.isdir(dirpath):\n",
    "        os.mkdir(dirpath)\n",
    "    #generate random test writer\n",
    "    test_num = random.randint(1,3)\n",
    "    expected_output_file.write(\"%d\\n\"%test_num)\n",
    "    #for each writer create writer directory\n",
    "    for i in range(1,4):\n",
    "        writer_num = random.randint(0,51)\n",
    "        test= True if i==test_num else False;\n",
    "        write_writer_documents_in_directory(dirpath,i,sorted_authors[writer_num],test)\n",
    "        \n",
    "expected_output_file.close()\n",
    "\n"
   ]
  },
  {
   "cell_type": "code",
   "execution_count": null,
   "metadata": {},
   "outputs": [],
   "source": []
  }
 ],
 "metadata": {
  "kernelspec": {
   "display_name": "Python 2",
   "language": "python",
   "name": "python2"
  },
  "language_info": {
   "codemirror_mode": {
    "name": "ipython",
    "version": 2
   },
   "file_extension": ".py",
   "mimetype": "text/x-python",
   "name": "python",
   "nbconvert_exporter": "python",
   "pygments_lexer": "ipython2",
   "version": "2.7.6"
  }
 },
 "nbformat": 4,
 "nbformat_minor": 0
}
