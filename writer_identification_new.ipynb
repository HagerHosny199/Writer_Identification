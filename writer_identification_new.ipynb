{
 "cells": [
  {
   "cell_type": "code",
   "execution_count": 2,
   "metadata": {
    "collapsed": true
   },
   "outputs": [],
   "source": [
    "#import OS to share the project dir\n",
    "import os\n",
    "os.chdir('F:\\\\fourth_year\\Pattern_Classification\\project\\Writer_Identification') \n",
    "\n",
    "#import important packages\n",
    "from IAM_loader import IAM_loader\n",
    "#import tensorflow as tf\n",
    "#import pandas as pd\n",
    "import numpy as np\n",
    "from sklearn import svm\n",
    "from sklearn.neighbors import KNeighborsClassifier\n",
    "import cv2 as cv2\n",
    "from PIL import Image\n",
    "import math\n",
    "from skimage import feature\n",
    "from operator import itemgetter\n",
    "from scipy import stats\n",
    "from sklearn.metrics import mean_squared_error\n",
    "from skimage.feature import peak_local_max\n",
    "from scipy.signal import find_peaks\n",
    "from scipy.signal import argrelextrema\n",
    "#packages for visualization\n",
    "import matplotlib.pyplot as plt\n",
    "import matplotlib.cm as cm\n",
    "#allows charts to appear in the notebook \n",
    "%matplotlib inline\n",
    "\n",
    "#ignoring warnings\n",
    "import warnings\n",
    "warnings.filterwarnings('ignore')"
   ]
  },
  {
   "cell_type": "markdown",
   "metadata": {},
   "source": [
    "## Reading Data :"
   ]
  },
  {
   "cell_type": "code",
   "execution_count": 3,
   "metadata": {
    "collapsed": true
   },
   "outputs": [],
   "source": [
    "# we use IAM handwriting database download it first\n",
    "# here we will read the images and get the important info about the images \n",
    "# we divide the available images into (train,cv and test)\n",
    "# division will be depend on the number of the images \n",
    "\n",
    "training_data=[] # only the train \n",
    "training_data_threshold=[] #training black images \n",
    "test_data_threshold=[] #test black images \n",
    "validation_data=[] # cross validation \n",
    "test_data=[] # test images \n",
    "\n",
    "WIDTH=2175 #image width\n",
    "HEIGHT=2304 #image height\n",
    "path=\"../dataset/output2\"\n"
   ]
  },
  {
   "cell_type": "code",
   "execution_count": 4,
   "metadata": {
    "collapsed": true
   },
   "outputs": [],
   "source": [
    "def reading_and_preprocess():\n",
    "    loader=IAM_loader('../dataset')\n",
    "    training_data,test_data,validation_data = loader.split_data()\n",
    "    #writting the data \n",
    "    training_data_threshold=training_data\n",
    "    test_data_threshold=validation_data\n",
    "    \n",
    "    #getting the thresholded images of the training\n",
    "    for i in range(len(training_data)):\n",
    "            temp=training_data[i][0]\n",
    "            _,image= cv2.threshold(temp,0,255,cv2.THRESH_BINARY_INV)\n",
    "            training_data_threshold[i][0]=image\n",
    "            \n",
    "    #getting the thresholded images of the test\n",
    "    for i in range(len(validation_data)):\n",
    "            temp=validation_data[i][0]\n",
    "            _,image= cv2.threshold(temp,0,255,cv2.THRESH_BINARY_INV)\n",
    "            test_data_threshold[i][0]=image\n",
    "    return training_data,test_data,validation_data,training_data_threshold,test_data_threshold"
   ]
  },
  {
   "cell_type": "code",
   "execution_count": 5,
   "metadata": {
    "collapsed": true
   },
   "outputs": [],
   "source": [
    "#get the window that contains the words \n",
    "def crop_image(image,y1,y2,x1,x2):\n",
    "    image=image[y1:y2,x1:x2]\n",
    "    return image"
   ]
  },
  {
   "cell_type": "code",
   "execution_count": 6,
   "metadata": {
    "collapsed": true
   },
   "outputs": [],
   "source": [
    "#note : use WIDTH and HEIGHT \n",
    "def resize_image (img):\n",
    "    img=cv2.resize(img, dsize=(HEIGHT, WIDTH), interpolation=cv2.INTER_CUBIC)\n",
    "    return img"
   ]
  },
  {
   "cell_type": "code",
   "execution_count": 7,
   "metadata": {
    "collapsed": true
   },
   "outputs": [],
   "source": [
    "def detect_lines(img):\n",
    "    horizontal_lines=[]\n",
    "    ret_lines=[] \n",
    "    #apply canny \n",
    "    edges = cv2.Canny(img,50,150,apertureSize = 3)\n",
    "    #dilation\n",
    "    kernel = np.ones((5,5), np.uint8)\n",
    "    img_dilation = cv2.dilate(edges, kernel, iterations=1)\n",
    "    #hough line transform\n",
    "    lines = cv2.HoughLinesP(img_dilation, 1, np.pi/180,200, maxLineGap=1,minLineLength=img.shape[1]/2)\n",
    "    #getting the horizontal lines \n",
    "    for i in range(len(lines)):\n",
    "           for line in lines[i]:\n",
    "                pt1 = (line[0],line[1])\n",
    "                pt2 = (line[2],line[3])\n",
    "                if (line[1]-line[3])==0 : #print((line[2]-line[3])//(line[0]-line[1]))\n",
    "                        cv2.line(img, pt1, pt2, (255,255,255), 3) \n",
    "                        horizontal_lines.append(line)\n",
    "    #sort lines to eleminate the closed lines \n",
    "    horizontal_lines=sorted(horizontal_lines,key=lambda x: x[1])\n",
    "    pt=horizontal_lines[0]\n",
    "    ret_lines.append(pt)\n",
    "    #loop to retrive the included lines \n",
    "    for i in range(1,len(horizontal_lines)):\n",
    "        if abs(horizontal_lines[i][1]-pt[1])>100:\n",
    "            #print(\"included\",horizontal_lines[i])\n",
    "            pt=horizontal_lines[i]\n",
    "            ret_lines.append(pt)\n",
    "    return ret_lines"
   ]
  },
  {
   "cell_type": "code",
   "execution_count": 8,
   "metadata": {
    "collapsed": true
   },
   "outputs": [],
   "source": [
    "def get_region():\n",
    "    for i in range(len(training_data)):\n",
    "        img=training_data[i][0]\n",
    "        lines=detect_lines(img)\n",
    "        print(len(lines))\n",
    "        print(img.shape,lines[1][1]+10,lines[2][1]-3,math.floor(lines[1][0]/4),img.shape[1]-1)\n",
    "        cropped_img=crop_image(img,lines[1][1]+10,lines[2][1]-3,math.floor(lines[1][0]/4),img.shape[1]-1)\n",
    "        cropped_img=resize_image(cropped_img)\n",
    "        training_data[i][0]=cropped_img\n"
   ]
  },
  {
   "cell_type": "code",
   "execution_count": 64,
   "metadata": {
    "collapsed": true
   },
   "outputs": [],
   "source": [
    "def get_histogram(img):\n",
    "    histogram=[]\n",
    "    #loop through the image to calcultae the  horizontal histogram of the image\n",
    "    for i in range(img.shape[0]): #for each row\n",
    "        sum=0\n",
    "        for j in range(img.shape[1]): # for each col\n",
    "            if img[i][j]==0:\n",
    "                sum+=1\n",
    "        histogram.append(sum)\n",
    "    print(len(histogram),img.shape)\n",
    "    return histogram"
   ]
  },
  {
   "cell_type": "code",
   "execution_count": 61,
   "metadata": {},
   "outputs": [],
   "source": [
    "def draw_image_histogram(hist, width,color='k'):\n",
    "    plt.plot(hist, color=color)\n",
    "    plt.xlim([0, width])"
   ]
  },
  {
   "cell_type": "code",
   "execution_count": 10,
   "metadata": {
    "collapsed": true
   },
   "outputs": [],
   "source": [
    "def get_local_min(hist):\n",
    "    hist=np.array(hist)\n",
    "    local_minima=argrelextrema(hist, np.less)\n",
    "    return local_minima"
   ]
  },
  {
   "cell_type": "code",
   "execution_count": 40,
   "metadata": {
    "collapsed": true
   },
   "outputs": [],
   "source": [
    "def get_lines(img,hist,index):\n",
    "    prev_y=0\n",
    "    num=0\n",
    "    lines=[]\n",
    "    line_num=0\n",
    "    for i in range(len(hist)):\n",
    "        if ((i-prev_y)>0 and (num/(i-prev_y))>0.25 and hist[i]==0 and hist[i-1]!=hist[i] and i-prev_y>100) or ((i-prev_y)>0 and (num/(i-prev_y))>0.25 and hist[i]<20 and hist[i-1]<20 and hist[i-1]!=hist[i] and i-prev_y>100) :\n",
    "            temp=img[prev_y:i+5,0:img.shape[1]]\n",
    "            prev_y=i+5\n",
    "            num=0\n",
    "            #cv2.imwrite(\"../dataset/hager/line\"+str(index)+str(line_num)+\".png\",temp)\n",
    "            line_num+=1\n",
    "            lines.append(temp)\n",
    "        elif hist[i]>30:\n",
    "            num+=1\n",
    "        \n",
    "    return lines"
   ]
  },
  {
   "cell_type": "code",
   "execution_count": 41,
   "metadata": {
    "collapsed": true
   },
   "outputs": [],
   "source": [
    " def line_segmentation(img,num):\n",
    "    im = cv2.erode(img,np.ones((3,200), np.uint8))\n",
    "    im = cv2.medianBlur(im,5)\n",
    "    im = cv2.bitwise_not(im)\n",
    "    w= np.size(img,1)\n",
    "    # cv2.imshow(\"i\",cv2.resize(im,(700,500)))\n",
    "    # cv2.waitKey(0)\n",
    "\n",
    "    lines = []\n",
    "    _,cnt,_ = cv2.findContours(im,cv2.RETR_EXTERNAL,cv2.CHAIN_APPROX_SIMPLE)\n",
    "    i=0\n",
    "    for contour in cnt:\n",
    "        x=[c[0] for c in contour.reshape(-1,2)]\n",
    "        y=[c[1] for c in contour.reshape(-1,2)]\n",
    "        minx,miny,maxx,maxy=np.min(x),np.min(y),np.max(x),np.max(y)\n",
    "        if (maxx-minx)>=(0.8*w):\n",
    "            cv2.imwrite(\"../dataset/reem/line\"+str(num)+str(i)+\".png\",img[miny:maxy,minx:maxx])\n",
    "            lines.append(img[miny:maxy,minx:maxx])\n",
    "            i+=1\n",
    "    return lines"
   ]
  },
  {
   "cell_type": "code",
   "execution_count": 13,
   "metadata": {},
   "outputs": [
    {
     "name": "stdout",
     "output_type": "stream",
     "text": [
      "Adding document a01-000u to the training data\n",
      "Adding document a01-003u to the training data\n",
      "Adding document a01-007u to the training data\n",
      "Adding document a01-011u to the training data\n",
      "Adding document a01-014u to the training data\n",
      "Adding document a01-020u to the training data\n",
      "Adding document a01-026u to the training data\n",
      "Adding document a01-030u to the training data\n",
      "Adding document a01-043u to the training data\n",
      "Adding document a01-049u to the training data\n",
      "Adding document a01-049x to the training data\n",
      "Adding document a01-053u to the training data\n",
      "Adding document a01-058u to the training data\n",
      "Adding document a01-063u to the training data\n",
      "Adding document a01-068u to the training data\n",
      "Adding document a01-072u to the training data\n",
      "Adding document a01-077u to the training data\n",
      "Adding document a01-082u to the training data\n",
      "Adding document a01-087u to the training data\n",
      "Adding document a01-091u to the training data\n",
      "Adding document a01-096u to the training data\n",
      "Adding document a01-102u to the training data\n",
      "Adding document a01-107u to the training data\n",
      "Adding document a01-113u to the training data\n",
      "Adding document a01-117u to the training data\n",
      "Adding document a01-122u to the training data\n",
      "Adding document a01-128u to the training data\n",
      "Adding document a01-132u to the training data\n",
      "Adding document a01-132x to the training data\n",
      "Adding document a01-132u to the validation data\n",
      "Adding document a01-132x to the validation data\n",
      "Adding document a01-000x to the training data\n",
      "Adding document a01-072x to the test data\n",
      "document a01-003 was splitted \n",
      "Adding document a01-003x to the training data\n",
      "Adding document a01-007x to the test data\n",
      "document a01-007 was splitted \n",
      "Adding document a01-011 to the training data\n",
      "Adding document a01-030 to the test data\n",
      "document a01-011x was splitted \n",
      "Adding document a01-014 to the training data\n",
      "Adding document a01-038 to the test data\n",
      "Adding document a01-014x to the training data\n",
      "Adding document a01-026x to the test data\n",
      "Adding document a01-020 to the training data\n",
      "Adding document a01-026 to the test data\n",
      "Adding document a01-020x to the training data\n",
      "Adding document a01-030x to the test data\n",
      "Adding document a01-038x to the training data\n",
      "Adding document a01-043x to the test data\n",
      "Adding document a01-043 to the training data\n",
      "Adding document a01-049 to the test data\n",
      "Adding document a01-053 to the training data\n",
      "Adding document a01-058 to the test data\n",
      "Adding document a01-053x to the training data\n",
      "Adding document a01-058x to the test data\n",
      "document a01-063x was splitted \n",
      "Adding document a01-077 to the training data\n",
      "Adding document a01-091 to the test data\n",
      "document a01-087 was splitted \n",
      "Adding document a01-107 to the training data\n",
      "Adding document a01-113 to the test data\n",
      "Adding document a01-117 to the training data\n",
      "Adding document a01-122 to the test data\n",
      "document a01-132 was splitted \n",
      "document a02-000 was splitted \n",
      "document a02-004 was splitted \n",
      "document a02-008 was splitted \n",
      "document a02-012 was splitted \n",
      "Adding document a02-017 to the training data\n",
      "Adding document a02-020 to the training data\n",
      "Adding document a02-024 to the training data\n",
      "Adding document a02-027 to the training data\n",
      "Adding document a02-032 to the training data\n",
      "Adding document a02-027 to the validation data\n",
      "Adding document a02-032 to the validation data\n",
      "Adding document a02-037 to the training data\n",
      "Adding document a02-042 to the test data\n",
      "document a02-046 was splitted \n",
      "document a02-050 was splitted \n",
      "document a02-053 was splitted \n",
      "document a02-057 was splitted \n",
      "document a02-062 was splitted \n",
      "document a02-067 was splitted \n",
      "document a02-072 was splitted \n"
     ]
    }
   ],
   "source": [
    "training_data,test_data,validation_data,training_data_threshold,test_data_threshold=reading_and_preprocess()"
   ]
  },
  {
   "cell_type": "code",
   "execution_count": 14,
   "metadata": {
    "scrolled": true
   },
   "outputs": [
    {
     "name": "stdout",
     "output_type": "stream",
     "text": [
      "3\n",
      "(3542, 2479) 614 2786 217 2478\n",
      "3\n",
      "(3542, 2479) 716 2788 179 2478\n",
      "3\n",
      "(3542, 2479) 664 2786 183 2478\n",
      "3\n",
      "(3542, 2479) 663 2785 208 2478\n",
      "3\n",
      "(3542, 2479) 664 2786 198 2478\n",
      "3\n",
      "(3542, 2479) 666 2787 165 2478\n",
      "3\n",
      "(3542, 2479) 714 2787 220 2478\n",
      "3\n",
      "(3542, 2479) 714 2786 171 2478\n",
      "3\n",
      "(3542, 2479) 663 2785 177 2478\n",
      "3\n",
      "(3542, 2479) 711 2784 211 2478\n",
      "3\n",
      "(3542, 2479) 734 2804 81 2478\n",
      "3\n",
      "(3542, 2479) 711 2784 185 2478\n",
      "3\n",
      "(3542, 2479) 662 2785 221 2478\n",
      "3\n",
      "(3542, 2479) 664 2787 196 2478\n",
      "3\n",
      "(3542, 2479) 662 2785 198 2478\n",
      "3\n",
      "(3542, 2479) 663 2786 185 2478\n",
      "3\n",
      "(3542, 2479) 661 2785 229 2478\n",
      "3\n",
      "(3542, 2479) 763 2787 172 2478\n",
      "3\n",
      "(3542, 2479) 662 2785 187 2478\n",
      "3\n",
      "(3542, 2479) 663 2786 225 2478\n",
      "3\n",
      "(3542, 2479) 713 2787 198 2478\n",
      "3\n",
      "(3542, 2479) 664 2787 208 2478\n",
      "3\n",
      "(3542, 2479) 613 2786 225 2478\n",
      "3\n",
      "(3542, 2479) 715 2789 85 2478\n",
      "3\n",
      "(3542, 2479) 711 2786 223 2478\n",
      "3\n",
      "(3542, 2479) 662 2786 225 2478\n",
      "3\n",
      "(3542, 2479) 713 2787 169 2478\n",
      "3\n",
      "(3542, 2479) 662 2785 206 2478\n",
      "3\n",
      "(3542, 2479) 688 2805 80 2478\n",
      "3\n",
      "(3542, 2479) 635 2803 81 2478\n",
      "3\n",
      "(3542, 2479) 721 2799 83 2478\n",
      "3\n",
      "(3542, 2479) 738 2807 81 2478\n",
      "3\n",
      "(3542, 2479) 671 2797 144 2478\n",
      "3\n",
      "(3542, 2479) 672 2797 195 2478\n",
      "3\n",
      "(3542, 2479) 688 2805 84 2478\n",
      "3\n",
      "(3542, 2479) 672 2799 186 2478\n",
      "3\n",
      "(3542, 2479) 686 2804 82 2478\n",
      "3\n",
      "(3542, 2479) 672 2799 166 2478\n",
      "3\n",
      "(3542, 2479) 686 2803 79 2478\n",
      "3\n",
      "(3542, 2479) 736 2803 84 2478\n",
      "3\n",
      "(3542, 2479) 672 2799 185 2478\n",
      "3\n",
      "(3542, 2479) 721 2799 214 2478\n",
      "3\n",
      "(3542, 2479) 735 2803 81 2478\n",
      "3\n",
      "(3542, 2479) 688 2806 83 2478\n",
      "3\n",
      "(3542, 2479) 669 2796 82 2478\n",
      "3\n",
      "(3542, 2479) 673 2799 202 2478\n",
      "3\n",
      "(3542, 2479) 622 2797 147 2478\n",
      "3\n",
      "(3542, 2479) 719 2797 86 2478\n",
      "3\n",
      "(3542, 2479) 671 2797 185 2478\n",
      "3\n",
      "(3542, 2479) 671 2796 83 2478\n",
      "3\n",
      "(3542, 2479) 723 2798 84 2478\n",
      "3\n",
      "(3542, 2479) 719 2796 82 2478\n",
      "3\n",
      "(3542, 2479) 721 2798 80 2478\n",
      "3\n",
      "(3542, 2479) 617 2800 201 2478\n",
      "3\n",
      "(3542, 2479) 565 2798 189 2478\n",
      "3\n",
      "(3542, 2479) 617 2800 86 2478\n",
      "2\n"
     ]
    },
    {
     "ename": "IndexError",
     "evalue": "list index out of range",
     "output_type": "error",
     "traceback": [
      "\u001b[1;31m---------------------------------------------------------------------------\u001b[0m",
      "\u001b[1;31mIndexError\u001b[0m                                Traceback (most recent call last)",
      "\u001b[1;32m<ipython-input-14-ed7310ceebfe>\u001b[0m in \u001b[0;36m<module>\u001b[1;34m()\u001b[0m\n\u001b[1;32m----> 1\u001b[1;33m \u001b[0mget_region\u001b[0m\u001b[1;33m(\u001b[0m\u001b[1;33m)\u001b[0m\u001b[1;33m\u001b[0m\u001b[0m\n\u001b[0m",
      "\u001b[1;32m<ipython-input-8-1f103413c2cf>\u001b[0m in \u001b[0;36mget_region\u001b[1;34m()\u001b[0m\n\u001b[0;32m      4\u001b[0m         \u001b[0mlines\u001b[0m\u001b[1;33m=\u001b[0m\u001b[0mdetect_lines\u001b[0m\u001b[1;33m(\u001b[0m\u001b[0mimg\u001b[0m\u001b[1;33m)\u001b[0m\u001b[1;33m\u001b[0m\u001b[0m\n\u001b[0;32m      5\u001b[0m         \u001b[0mprint\u001b[0m\u001b[1;33m(\u001b[0m\u001b[0mlen\u001b[0m\u001b[1;33m(\u001b[0m\u001b[0mlines\u001b[0m\u001b[1;33m)\u001b[0m\u001b[1;33m)\u001b[0m\u001b[1;33m\u001b[0m\u001b[0m\n\u001b[1;32m----> 6\u001b[1;33m         \u001b[0mprint\u001b[0m\u001b[1;33m(\u001b[0m\u001b[0mimg\u001b[0m\u001b[1;33m.\u001b[0m\u001b[0mshape\u001b[0m\u001b[1;33m,\u001b[0m\u001b[0mlines\u001b[0m\u001b[1;33m[\u001b[0m\u001b[1;36m1\u001b[0m\u001b[1;33m]\u001b[0m\u001b[1;33m[\u001b[0m\u001b[1;36m1\u001b[0m\u001b[1;33m]\u001b[0m\u001b[1;33m+\u001b[0m\u001b[1;36m10\u001b[0m\u001b[1;33m,\u001b[0m\u001b[0mlines\u001b[0m\u001b[1;33m[\u001b[0m\u001b[1;36m2\u001b[0m\u001b[1;33m]\u001b[0m\u001b[1;33m[\u001b[0m\u001b[1;36m1\u001b[0m\u001b[1;33m]\u001b[0m\u001b[1;33m-\u001b[0m\u001b[1;36m3\u001b[0m\u001b[1;33m,\u001b[0m\u001b[0mmath\u001b[0m\u001b[1;33m.\u001b[0m\u001b[0mfloor\u001b[0m\u001b[1;33m(\u001b[0m\u001b[0mlines\u001b[0m\u001b[1;33m[\u001b[0m\u001b[1;36m1\u001b[0m\u001b[1;33m]\u001b[0m\u001b[1;33m[\u001b[0m\u001b[1;36m0\u001b[0m\u001b[1;33m]\u001b[0m\u001b[1;33m/\u001b[0m\u001b[1;36m4\u001b[0m\u001b[1;33m)\u001b[0m\u001b[1;33m,\u001b[0m\u001b[0mimg\u001b[0m\u001b[1;33m.\u001b[0m\u001b[0mshape\u001b[0m\u001b[1;33m[\u001b[0m\u001b[1;36m1\u001b[0m\u001b[1;33m]\u001b[0m\u001b[1;33m-\u001b[0m\u001b[1;36m1\u001b[0m\u001b[1;33m)\u001b[0m\u001b[1;33m\u001b[0m\u001b[0m\n\u001b[0m\u001b[0;32m      7\u001b[0m         \u001b[0mcropped_img\u001b[0m\u001b[1;33m=\u001b[0m\u001b[0mcrop_image\u001b[0m\u001b[1;33m(\u001b[0m\u001b[0mimg\u001b[0m\u001b[1;33m,\u001b[0m\u001b[0mlines\u001b[0m\u001b[1;33m[\u001b[0m\u001b[1;36m1\u001b[0m\u001b[1;33m]\u001b[0m\u001b[1;33m[\u001b[0m\u001b[1;36m1\u001b[0m\u001b[1;33m]\u001b[0m\u001b[1;33m+\u001b[0m\u001b[1;36m10\u001b[0m\u001b[1;33m,\u001b[0m\u001b[0mlines\u001b[0m\u001b[1;33m[\u001b[0m\u001b[1;36m2\u001b[0m\u001b[1;33m]\u001b[0m\u001b[1;33m[\u001b[0m\u001b[1;36m1\u001b[0m\u001b[1;33m]\u001b[0m\u001b[1;33m-\u001b[0m\u001b[1;36m3\u001b[0m\u001b[1;33m,\u001b[0m\u001b[0mmath\u001b[0m\u001b[1;33m.\u001b[0m\u001b[0mfloor\u001b[0m\u001b[1;33m(\u001b[0m\u001b[0mlines\u001b[0m\u001b[1;33m[\u001b[0m\u001b[1;36m1\u001b[0m\u001b[1;33m]\u001b[0m\u001b[1;33m[\u001b[0m\u001b[1;36m0\u001b[0m\u001b[1;33m]\u001b[0m\u001b[1;33m/\u001b[0m\u001b[1;36m4\u001b[0m\u001b[1;33m)\u001b[0m\u001b[1;33m,\u001b[0m\u001b[0mimg\u001b[0m\u001b[1;33m.\u001b[0m\u001b[0mshape\u001b[0m\u001b[1;33m[\u001b[0m\u001b[1;36m1\u001b[0m\u001b[1;33m]\u001b[0m\u001b[1;33m-\u001b[0m\u001b[1;36m1\u001b[0m\u001b[1;33m)\u001b[0m\u001b[1;33m\u001b[0m\u001b[0m\n\u001b[0;32m      8\u001b[0m         \u001b[0mcropped_img\u001b[0m\u001b[1;33m=\u001b[0m\u001b[0mresize_image\u001b[0m\u001b[1;33m(\u001b[0m\u001b[0mcropped_img\u001b[0m\u001b[1;33m)\u001b[0m\u001b[1;33m\u001b[0m\u001b[0m\n",
      "\u001b[1;31mIndexError\u001b[0m: list index out of range"
     ]
    }
   ],
   "source": [
    "get_region()"
   ]
  },
  {
   "cell_type": "code",
   "execution_count": 39,
   "metadata": {},
   "outputs": [
    {
     "name": "stdout",
     "output_type": "stream",
     "text": [
      "0\n",
      "1\n",
      "2\n",
      "3\n",
      "4\n",
      "5\n",
      "6\n",
      "7\n",
      "8\n",
      "9\n",
      "10\n",
      "11\n",
      "12\n",
      "13\n",
      "14\n",
      "15\n",
      "16\n",
      "17\n",
      "18\n",
      "19\n",
      "20\n",
      "21\n",
      "22\n",
      "23\n",
      "24\n",
      "25\n",
      "26\n",
      "27\n",
      "28\n",
      "29\n",
      "30\n",
      "31\n",
      "32\n",
      "33\n",
      "34\n",
      "35\n",
      "36\n",
      "37\n",
      "38\n",
      "39\n",
      "40\n",
      "41\n",
      "42\n",
      "43\n",
      "44\n",
      "45\n",
      "46\n",
      "47\n",
      "48\n",
      "49\n",
      "50\n",
      "51\n",
      "52\n",
      "53\n",
      "54\n"
     ]
    }
   ],
   "source": [
    "for i in range(55):\n",
    "    img=training_data[i][0]\n",
    "    #convert to gray scale\n",
    "    #img = cv2.cvtColor(img, cv2.COLOR_RGB2GRAY)\n",
    "    #getting the binary image\n",
    "    ret,img = cv2.threshold(img,127,255,cv2.THRESH_BINARY_INV)\n",
    "    #calculate the histogram\n",
    "    hist=get_histogram(img)\n",
    "    local_min=get_local_min(hist)\n",
    "    local_min=local_min[0].ravel()\n",
    "    get_lines(img,hist,i)\n",
    "    _=line_segmentation(img,i)\n",
    "    print(i)"
   ]
  },
  {
   "cell_type": "code",
   "execution_count": 65,
   "metadata": {},
   "outputs": [
    {
     "name": "stdout",
     "output_type": "stream",
     "text": [
      "2175 (2175, 2304)\n",
      "217 (217, 2304)\n"
     ]
    }
   ],
   "source": [
    "img=training_data[0][0]\n",
    "#convert to gray scale\n",
    "#img = cv2.cvtColor(img, cv2.COLOR_RGB2GRAY)\n",
    "#getting the binary image\n",
    "ret,img = cv2.threshold(img,127,255,cv2.THRESH_BINARY_INV)\n",
    "#calculate the histogram\n",
    "hist=get_histogram(img)\n",
    "lines=get_lines(img,hist,i)\n",
    "line_hist=get_histogram(lines[0])"
   ]
  },
  {
   "cell_type": "code",
   "execution_count": 66,
   "metadata": {},
   "outputs": [
    {
     "name": "stdout",
     "output_type": "stream",
     "text": [
      "217 (217, 2304)\n",
      "[0, 0, 0, 0, 0, 0, 0, 0, 0, 0, 0, 0, 0, 0, 0, 0, 0, 0, 0, 0, 0, 0, 0, 0, 0, 0, 0, 0, 0, 0, 0, 0, 0, 0, 0, 0, 0, 0, 0, 0, 0, 0, 0, 0, 0, 0, 0, 0, 0, 0, 0, 0, 0, 0, 0, 0, 0, 0, 0, 0, 0, 0, 0, 0, 0, 0, 0, 0, 0, 0, 0, 0, 0, 0, 0, 0, 0, 0, 0, 0, 0, 0, 0, 0, 0, 0, 0, 0, 0, 0, 0, 0, 0, 0, 0, 0, 0, 0, 0, 0, 0, 0, 0, 0, 0, 0, 0, 0, 0, 0, 0, 0, 0, 0, 0, 0, 0, 0, 0, 0, 0, 0, 0, 0, 0, 0, 0, 0, 0, 0, 3, 5, 7, 8, 8, 8, 24, 34, 37, 43, 47, 52, 53, 56, 67, 73, 85, 93, 95, 102, 105, 105, 107, 122, 132, 146, 164, 174, 180, 196, 190, 212, 224, 239, 248, 270, 278, 297, 318, 359, 425, 472, 495, 517, 517, 524, 523, 511, 487, 470, 475, 473, 475, 471, 480, 506, 506, 501, 502, 488, 518, 516, 470, 478, 484, 444, 386, 315, 247, 200, 131, 85, 59, 52, 34, 19, 19, 19, 20, 19, 20, 18, 17, 15, 12, 8, 9]\n"
     ]
    },
    {
     "data": {
      "image/png": "[encoded data removed]",
      "text/plain": [
       "<Figure size 432x288 with 1 Axes>"
      ]
     },
     "metadata": {},
     "output_type": "display_data"
    }
   ],
   "source": [
    "print(len(line_hist),lines[0].shape)\n",
    "print(line_hist)\n",
    "draw_image_histogram(line_hist,lines[0].shape[0])"
   ]
  },
  {
   "cell_type": "code",
   "execution_count": null,
   "metadata": {
    "collapsed": true
   },
   "outputs": [],
   "source": []
  }
 ],
 "metadata": {
  "kernelspec": {
   "display_name": "Python 3",
   "language": "python",
   "name": "python3"
  },
  "language_info": {
   "codemirror_mode": {
    "name": "ipython",
    "version": 3
   },
   "file_extension": ".py",
   "mimetype": "text/x-python",
   "name": "python",
   "nbconvert_exporter": "python",
   "pygments_lexer": "ipython3",
   "version": "3.6.3"
  }
 },
 "nbformat": 4,
 "nbformat_minor": 2
}
