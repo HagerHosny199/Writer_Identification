{
 "cells": [
  {
   "cell_type": "code",
   "execution_count": 17,
   "metadata": {
    "collapsed": true
   },
   "outputs": [],
   "source": [
    "import os\n",
    "import IAM_loader\n",
    "import random\n",
    "import cv2\n"
   ]
  },
  {
   "cell_type": "code",
   "execution_count": 16,
   "metadata": {},
   "outputs": [],
   "source": [
    "\n",
    "cwd=os.getcwd()\n",
    "loader = IAM_loader.IAM_loader('../../version1/data')\n",
    "\n",
    "\n",
    "authors_dict=loader.read_forms_meta_data()\n",
    "# sorted_authors = sorted(authors_dict.items(),key=lambda a:len(a[1]),reverse=True)\n",
    "# for a in sorted_authors:\n",
    "#     print(len(a[1]))\n",
    "\n",
    "\n",
    "\n",
    "\n",
    "k =0\n",
    "\n",
    "sorted_authors = sorted(authors_dict.items(),key=lambda a:len(a[1]),reverse=True)\n",
    "for i in range(10):\n",
    "    group = 0\n",
    "    dirpath = os.path.join('../../version1/data','dir{}'.format(i))\n",
    "    dirpath_train=os.path.join(dirpath,'train')\n",
    "    if not os.path.isdir(dirpath):\n",
    "        os.makedirs(dirpath)\n",
    "        if not os.path.isdir(dirpath_train):\n",
    "            os.mkdir(dirpath_train)\n",
    "    \n",
    "    doc_num=0\n",
    "    for j in range(k,len(sorted_authors)):\n",
    "        author=sorted_authors[j]\n",
    "        docs = author[1]\n",
    "        num_docs = len(docs)\n",
    "        if num_docs>=3:\n",
    "            im1 = loader.load_image('{}'.format(docs[0]))\n",
    "            cv2.imwrite(os.path.join(dirpath_train,\"{}-{}.png\".format(docs[0],author[0])),im1)\n",
    "            im2 = loader.load_image('{}'.format(docs[1]))\n",
    "            cv2.imwrite(os.path.join(dirpath_train,\"{}-{}.png\".format(docs[1],author[0])),im2)\n",
    "\n",
    "        else:\n",
    "            continue\n",
    "        group = group + 1\n",
    "        if group == 3:\n",
    "            #choose a random doc for testing\n",
    "            test_j= random.randint(j-3,j+1)\n",
    "            a=sorted_authors[test_j]\n",
    "            im3 = loader.load_image('{}'.format(a[1][2]))\n",
    "            cv2.imwrite(os.path.join(dirpath,\"{}-{}.png\".format(a[1][2],a[0])),im3)\n",
    "            k = j\n",
    "            break\n",
    "\n",
    "\n",
    "        \n",
    "            \n",
    "        \n",
    "        \n",
    "\n",
    "\n",
    "   "
   ]
  },
  {
   "cell_type": "code",
   "execution_count": null,
   "metadata": {},
   "outputs": [],
   "source": []
  },
  {
   "cell_type": "code",
   "execution_count": null,
   "metadata": {},
   "outputs": [],
   "source": []
  }
 ],
 "metadata": {
  "kernelspec": {
   "display_name": "Python 2",
   "language": "python",
   "name": "python2"
  },
  "language_info": {
   "codemirror_mode": {
    "name": "ipython",
    "version": 2
   },
   "file_extension": ".py",
   "mimetype": "text/x-python",
   "name": "python",
   "nbconvert_exporter": "python",
   "pygments_lexer": "ipython2",
   "version": "2.7.6"
  }
 },
 "nbformat": 4,
 "nbformat_minor": 0
}
