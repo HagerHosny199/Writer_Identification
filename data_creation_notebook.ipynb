{
 "cells": [
  {
   "cell_type": "code",
   "execution_count": 2,
   "metadata": {
    "collapsed": true
   },
   "outputs": [],
   "source": [
    "import os\n",
    "import IAM_loader\n",
    "import random\n",
    "import cv2\n"
   ]
  },
  {
   "cell_type": "code",
   "execution_count": 10,
   "metadata": {},
   "outputs": [
    {
     "name": "stdout",
     "output_type": "stream",
     "text": [
      "['a01-000u', 'a01-003u', 'a01-007u', 'a01-011u', 'a01-014u', 'a01-020u', 'a01-026u', 'a01-030u', 'a01-043u', 'a01-049u', 'a01-049x', 'a01-053u', 'a01-058u', 'a01-063u', 'a01-068u', 'a01-072u', 'a01-077u', 'a01-082u', 'a01-087u', 'a01-091u', 'a01-096u', 'a01-102u', 'a01-107u', 'a01-113u', 'a01-117u', 'a01-122u', 'a01-128u', 'a01-132u', 'a01-132x', 'a03-050', 'a03-071', 'a03-073', 'a03-080', 'a03-089', 'a05-000', 'a05-013', 'a05-017', 'a05-022', 'a05-025', 'a05-029', 'a05-039', 'a05-044', 'a05-048', 'a05-053', 'a05-058', 'a05-062', 'a05-069', 'a05-073', 'a05-080', 'a05-084', 'a05-089', 'a05-094', 'a05-099', 'a05-104', 'a05-108', 'a05-113', 'a05-116', 'a05-121', 'a05-125']\n['c03-000a', 'c03-003a', 'c03-007a', 'c03-016a', 'c03-021a', 'c03-081a', 'c03-084a', 'c03-087a', 'c03-094a', 'c03-096a']\n"
     ]
    },
    {
     "name": "stdout",
     "output_type": "stream",
     "text": [
      "['c03-000b', 'c03-003b', 'c03-007b', 'c03-016b', 'c03-021b', 'c03-081b', 'c03-084b', 'c03-087b', 'c03-094b', 'c03-096b']\n"
     ]
    },
    {
     "name": "stdout",
     "output_type": "stream",
     "text": [
      "['c03-000c', 'c03-003c', 'c03-007c', 'c03-016c', 'c03-021c', 'c03-081c', 'c03-084c', 'c03-087c', 'c03-094c', 'c03-096c']\n"
     ]
    },
    {
     "name": "stdout",
     "output_type": "stream",
     "text": [
      "['c03-000d', 'c03-003d', 'c03-007d', 'c03-016d', 'c03-021d', 'c03-081d', 'c03-084d', 'c03-087d', 'c03-094d', 'c03-096d']\n"
     ]
    },
    {
     "name": "stdout",
     "output_type": "stream",
     "text": [
      "['c03-000e', 'c03-003e', 'c03-007e', 'c03-016e', 'c03-021e', 'c03-081e', 'c03-084e', 'c03-087e', 'c03-094e', 'c03-096e']\n"
     ]
    },
    {
     "name": "stdout",
     "output_type": "stream",
     "text": [
      "['h06-079', 'h06-082', 'h06-085', 'h06-089', 'h06-092', 'h06-096', 'j06-000', 'j06-005', 'j06-008', 'j06-014']\n"
     ]
    },
    {
     "name": "stdout",
     "output_type": "stream",
     "text": [
      "['m06-019', 'n06-148', 'n06-156', 'n06-163', 'n06-169', 'n06-175', 'n06-182', 'n06-186', 'n06-194', 'n06-201']\n['m06-031', 'm06-042', 'm06-048', 'm06-056', 'm06-067', 'm06-076', 'm06-083', 'm06-091', 'm06-098', 'm06-106']\n"
     ]
    },
    {
     "name": "stdout",
     "output_type": "stream",
     "text": [
      "['n06-074', 'n06-082', 'n06-092', 'n06-100', 'n06-111', 'n06-119', 'n06-123', 'n06-128', 'n06-133', 'n06-140']\n['p06-242', 'p06-248', 'r06-000', 'r06-003', 'r06-007', 'r06-011', 'r06-018', 'r06-022', 'r06-027', 'r06-143']\n"
     ]
    },
    {
     "name": "stdout",
     "output_type": "stream",
     "text": [
      "['r06-035', 'r06-041', 'r06-044', 'r06-049', 'r06-053', 'r06-057', 'r06-062', 'r06-066', 'r06-070', 'r06-076']\n"
     ]
    },
    {
     "name": "stdout",
     "output_type": "stream",
     "text": [
      "['r06-090', 'r06-097', 'r06-103', 'r06-106', 'r06-111', 'r06-115', 'r06-121', 'r06-126', 'r06-130', 'r06-137']\n['c03-000f', 'c03-003f', 'c03-007f', 'c03-021f', 'c03-081f', 'c03-084f', 'c03-087f', 'c03-094f', 'c03-096f']\n"
     ]
    },
    {
     "name": "stdout",
     "output_type": "stream",
     "text": [
      "['g06-011b', 'g06-018b', 'g06-026b', 'g06-031b', 'g06-037b', 'g06-042b', 'g06-045b', 'g06-047b', 'g06-050b']\n"
     ]
    },
    {
     "name": "stdout",
     "output_type": "stream",
     "text": [
      "['g06-011c', 'g06-018c', 'g06-026c', 'g06-031c', 'g06-037c', 'g06-042c', 'g06-045c', 'g06-047c', 'g06-050c']\n['g06-011e', 'g06-018e', 'g06-026e', 'g06-031e', 'g06-037e', 'g06-042e', 'g06-045e', 'g06-047e', 'g06-050e']\n"
     ]
    },
    {
     "name": "stdout",
     "output_type": "stream",
     "text": [
      "['g06-011f', 'g06-018f', 'g06-026f', 'g06-031f', 'g06-037f', 'g06-042f', 'g06-045f', 'g06-047f', 'g06-050f']\n"
     ]
    },
    {
     "name": "stdout",
     "output_type": "stream",
     "text": [
      "['g06-011g', 'g06-018g', 'g06-026g', 'g06-031g', 'g06-037g', 'g06-042g', 'g06-045g', 'g06-047g', 'g06-050g']\n['g06-011h', 'g06-018h', 'g06-026h', 'g06-031h', 'g06-037h', 'g06-042h', 'g06-045h', 'g06-047h', 'g06-050h']\n"
     ]
    },
    {
     "name": "stdout",
     "output_type": "stream",
     "text": [
      "['g06-011i', 'g06-018i', 'g06-026i', 'g06-031i', 'g06-037i', 'g06-042i', 'g06-045i', 'g06-047i', 'g06-050i']\n"
     ]
    },
    {
     "name": "stdout",
     "output_type": "stream",
     "text": [
      "['g06-011j', 'g06-018j', 'g06-026j', 'g06-031j', 'g06-037j', 'g06-042j', 'g06-045j', 'g06-047j', 'g06-050j']\n['g06-011k', 'g06-018k', 'g06-026k', 'g06-031k', 'g06-037k', 'g06-042k', 'g06-045k', 'g06-047k', 'g06-050k']\n"
     ]
    },
    {
     "name": "stdout",
     "output_type": "stream",
     "text": [
      "['g06-011l', 'g06-018l', 'g06-026l', 'g06-031l', 'g06-037l', 'g06-042l', 'g06-045l', 'g06-047l', 'g06-050l']\n"
     ]
    },
    {
     "name": "stdout",
     "output_type": "stream",
     "text": [
      "['g06-011m', 'g06-018m', 'g06-026m', 'g06-031m', 'g06-037m', 'g06-042m', 'g06-045m', 'g06-047m', 'g06-050m']\n['g06-011n', 'g06-018n', 'g06-026n', 'g06-031n', 'g06-037n', 'g06-042n', 'g06-045n', 'g06-047n', 'g06-050n']\n"
     ]
    },
    {
     "name": "stdout",
     "output_type": "stream",
     "text": [
      "['g06-011o', 'g06-018o', 'g06-026o', 'g06-031o', 'g06-037o', 'g06-042o', 'g06-045o', 'g06-047o', 'g06-050o']\n"
     ]
    },
    {
     "name": "stdout",
     "output_type": "stream",
     "text": [
      "['g06-011p', 'g06-018p', 'g06-026p', 'g06-031p', 'g06-037p', 'g06-042p', 'g06-045p', 'g06-047p', 'g06-050p']\n['g06-011r', 'g06-018r', 'g06-026r', 'g06-031r', 'g06-037r', 'g06-042r', 'g06-045r', 'g06-047r', 'g06-050r']\n"
     ]
    },
    {
     "name": "stdout",
     "output_type": "stream",
     "text": [
      "['g06-089', 'g06-093', 'g06-096', 'g06-101', 'g06-105', 'g06-109', 'g06-115', 'h06-000', 'h06-003']\n"
     ]
    }
   ],
   "source": [
    "\n",
    "cwd=os.getcwd()\n",
    "loader = IAM_loader.IAM_loader('../version1/data')\n",
    "\n",
    "\n",
    "authors_dict=loader.read_forms_meta_data()\n",
    "# sorted_authors = sorted(authors_dict.items(),key=lambda a:len(a[1]),reverse=True)\n",
    "# for a in sorted_authors:\n",
    "#     print(len(a[1]))\n",
    "\n",
    "\n",
    "\n",
    "\n",
    "k =0\n",
    "\n",
    "sorted_authors = sorted(authors_dict.items(),key=lambda a:len(a[1]),reverse=True)\n",
    "for i in range(10):\n",
    "    group = 0\n",
    "    dirpath = os.path.join('../version1/data','dir{}'.format(i))\n",
    "    dirpath_train=os.path.join(dirpath,'train')\n",
    "    if not os.path.isdir(dirpath):\n",
    "        os.makedirs(dirpath)\n",
    "        if not os.path.isdir(dirpath_train):\n",
    "            os.mkdir(dirpath_train)\n",
    "    \n",
    "    doc_num=0\n",
    "    for j in range(k,len(sorted_authors)):\n",
    "        author=sorted_authors[j]\n",
    "        docs = author[1]\n",
    "        num_docs = len(docs)\n",
    "        print(docs)\n",
    "        if num_docs>=3:\n",
    "            im1 = loader.load_image('{}'.format(docs[0]))\n",
    "            cv2.imwrite(os.path.join(dirpath_train,\"{}-{}.png\".format(docs[0],author[0])),im1)\n",
    "            im2 = loader.load_image('{}'.format(docs[1]))\n",
    "            cv2.imwrite(os.path.join(dirpath_train,\"{}-{}.png\".format(docs[1],author[0])),im2)\n",
    "\n",
    "       \n",
    "            group = group + 1\n",
    "            if group == 3:\n",
    "                #choose a random doc for testing\n",
    "                test_j= random.randint(j-2,j)\n",
    "                a=sorted_authors[test_j]\n",
    "                im3 = loader.load_image('{}'.format(a[1][2]))\n",
    "                cv2.imwrite(os.path.join(dirpath,\"{}-{}.png\".format(a[1][2],a[0])),im3)\n",
    "                k = j+1\n",
    "                break\n",
    "        else:\n",
    "                print(\"less than 3\")\n",
    "                continue\n",
    "\n",
    "\n",
    "        \n",
    "            \n",
    "        \n",
    "        \n",
    "\n",
    "\n",
    "   "
   ]
  },
  {
   "cell_type": "code",
   "execution_count": null,
   "metadata": {},
   "outputs": [],
   "source": []
  },
  {
   "cell_type": "code",
   "execution_count": null,
   "metadata": {},
   "outputs": [],
   "source": []
  }
 ],
 "metadata": {
  "kernelspec": {
   "display_name": "Python 2",
   "language": "python",
   "name": "python2"
  },
  "language_info": {
   "codemirror_mode": {
    "name": "ipython",
    "version": 2
   },
   "file_extension": ".py",
   "mimetype": "text/x-python",
   "name": "python",
   "nbconvert_exporter": "python",
   "pygments_lexer": "ipython2",
   "version": "2.7.6"
  }
 },
 "nbformat": 4,
 "nbformat_minor": 0
}
